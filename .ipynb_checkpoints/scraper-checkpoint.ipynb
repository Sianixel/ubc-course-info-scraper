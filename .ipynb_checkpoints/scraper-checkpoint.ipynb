{
 "cells": [
  {
   "cell_type": "code",
   "execution_count": 1,
   "metadata": {},
   "outputs": [
    {
     "name": "stderr",
     "output_type": "stream",
     "text": [
      "Warning message:\n",
      "\"package 'tidyverse' was built under R version 3.6.3\"-- Attaching packages --------------------------------------- tidyverse 1.3.0 --\n",
      "v ggplot2 3.3.0     v purrr   0.3.4\n",
      "v tibble  3.0.1     v dplyr   0.8.5\n",
      "v tidyr   1.0.3     v stringr 1.4.0\n",
      "v readr   1.3.1     v forcats 0.5.0\n",
      "Warning message:\n",
      "\"package 'ggplot2' was built under R version 3.6.3\"Warning message:\n",
      "\"package 'tibble' was built under R version 3.6.3\"Warning message:\n",
      "\"package 'tidyr' was built under R version 3.6.3\"Warning message:\n",
      "\"package 'readr' was built under R version 3.6.3\"Warning message:\n",
      "\"package 'purrr' was built under R version 3.6.3\"Warning message:\n",
      "\"package 'dplyr' was built under R version 3.6.3\"Warning message:\n",
      "\"package 'stringr' was built under R version 3.6.3\"Warning message:\n",
      "\"package 'forcats' was built under R version 3.6.3\"-- Conflicts ------------------------------------------ tidyverse_conflicts() --\n",
      "x dplyr::filter() masks stats::filter()\n",
      "x dplyr::lag()    masks stats::lag()\n",
      "Warning message:\n",
      "\"package 'rvest' was built under R version 3.6.3\"Loading required package: xml2\n",
      "Warning message:\n",
      "\"package 'xml2' was built under R version 3.6.3\"\n",
      "Attaching package: 'rvest'\n",
      "\n",
      "The following object is masked from 'package:purrr':\n",
      "\n",
      "    pluck\n",
      "\n",
      "The following object is masked from 'package:readr':\n",
      "\n",
      "    guess_encoding\n",
      "\n",
      "Warning message:\n",
      "\"package 'RSelenium' was built under R version 3.6.3\""
     ]
    }
   ],
   "source": [
    "# Load libraries\n",
    "library(tidyverse)\n",
    "library(rvest)\n",
    "library(RSelenium)\n",
    "library(stringr)"
   ]
  },
  {
   "cell_type": "code",
   "execution_count": null,
   "metadata": {},
   "outputs": [],
   "source": [
    "\n",
    "#bcomm_url <- \"https://mybcom.sauder.ubc.ca/courses-money-and-enrolment/courses\"\n",
    "#real_estate_url <- \"https://www.sauder.ubc.ca/programs/real-estate/credit-programs/course-offerings\"\n",
    "root_url <- \"https://courses.students.ubc.ca/cs/courseschedule?pname=subjarea&tname=subj-all-departments\""
   ]
  },
  {
   "cell_type": "code",
   "execution_count": null,
   "metadata": {},
   "outputs": [],
   "source": [
    "# Open browser\n",
    "mybrowser <- remoteDriver(remoteServerAddr = \"localhost\", port = 4444, browserName = \"firefox\")\n",
    "mybrowser$open()"
   ]
  },
  {
   "cell_type": "code",
   "execution_count": 2,
   "metadata": {},
   "outputs": [
    {
     "name": "stdout",
     "output_type": "stream",
     "text": [
      "[1] \"Connecting to remote server\"\n",
      "$acceptInsecureCerts\n",
      "[1] FALSE\n",
      "\n",
      "$browserName\n",
      "[1] \"firefox\"\n",
      "\n",
      "$browserVersion\n",
      "[1] \"76.0.1\"\n",
      "\n",
      "$`moz:accessibilityChecks`\n",
      "[1] FALSE\n",
      "\n",
      "$`moz:buildID`\n",
      "[1] \"20200507114007\"\n",
      "\n",
      "$`moz:geckodriverVersion`\n",
      "[1] \"0.26.0\"\n",
      "\n",
      "$`moz:headless`\n",
      "[1] FALSE\n",
      "\n",
      "$`moz:processID`\n",
      "[1] 10020\n",
      "\n",
      "$`moz:profile`\n",
      "[1] \"C:\\\\Users\\\\anais\\\\AppData\\\\Local\\\\Temp\\\\rust_mozprofileV9ZTo5\"\n",
      "\n",
      "$`moz:shutdownTimeout`\n",
      "[1] 60000\n",
      "\n",
      "$`moz:useNonSpecCompliantPointerOrigin`\n",
      "[1] FALSE\n",
      "\n",
      "$`moz:webdriverClick`\n",
      "[1] TRUE\n",
      "\n",
      "$pageLoadStrategy\n",
      "[1] \"normal\"\n",
      "\n",
      "$platformName\n",
      "[1] \"windows\"\n",
      "\n",
      "$platformVersion\n",
      "[1] \"10.0\"\n",
      "\n",
      "$rotatable\n",
      "[1] FALSE\n",
      "\n",
      "$setWindowRect\n",
      "[1] TRUE\n",
      "\n",
      "$strictFileInteractability\n",
      "[1] FALSE\n",
      "\n",
      "$timeouts\n",
      "$timeouts$implicit\n",
      "[1] 0\n",
      "\n",
      "$timeouts$pageLoad\n",
      "[1] 300000\n",
      "\n",
      "$timeouts$script\n",
      "[1] 30000\n",
      "\n",
      "\n",
      "$unhandledPromptBehavior\n",
      "[1] \"dismiss and notify\"\n",
      "\n",
      "$webdriver.remote.sessionid\n",
      "[1] \"9db008c0-8ded-42b8-93ee-7a80d3138c8c\"\n",
      "\n",
      "$id\n",
      "[1] \"9db008c0-8ded-42b8-93ee-7a80d3138c8c\"\n",
      "\n"
     ]
    },
    {
     "name": "stderr",
     "output_type": "stream",
     "text": [
      "\n",
      "Selenium message:Browsing context has been discarded\n",
      "Build info: version: '4.0.0-alpha-2', revision: 'f148142cf8', time: '2019-07-01T21:30:10'\n",
      "System info: host: 'DESKTOP-CMAMCK7', ip: '192.168.0.26', os.name: 'Windows 10', os.arch: 'amd64', os.version: '10.0', java.version: '1.8.0_241'\n",
      "Driver info: driver.version: unknown\n",
      "\n"
     ]
    },
    {
     "ename": "ERROR",
     "evalue": "Error: \t Summary: NoSuchWindow\n \t Detail: A request to switch to a different window could not be satisfied because the window could not be found.\n \t class: org.openqa.selenium.NoSuchWindowException\n\t Further Details: run errorDetails method\n",
     "output_type": "error",
     "traceback": [
      "Error: \t Summary: NoSuchWindow\n \t Detail: A request to switch to a different window could not be satisfied because the window could not be found.\n \t class: org.openqa.selenium.NoSuchWindowException\n\t Further Details: run errorDetails method\nTraceback:\n",
      "1. mybrowser$findElement(\"css selector\", \".pager-next a\")",
      "2. queryRD(qpath, \"POST\", qdata = list(using = using, value = value))",
      "3. checkStatus(resContent)",
      "4. stop(errMessage, call. = FALSE)"
     ]
    }
   ],
   "source": [
    "#BComm Course Title Fetching\n",
    "mybrowser$navigate(bcomm_url)\n",
    "\n",
    "for (i in 1:15){\n",
    "    webel <- mybrowser$findElement(\"css selector\", \".pager-next a\")\n",
    "    webel$clickElement()\n",
    "    Sys.sleep(2)\n",
    "}\n",
    "bcomm_page_source <- mybrowser$getPageSource()\n",
    "bcomm_page_data <- read_html(page_source[[1]]) %>%\n",
    "    html_nodes(\"h3 a\") %>%\n",
    "    html_text()"
   ]
  },
  {
   "cell_type": "code",
   "execution_count": null,
   "metadata": {},
   "outputs": [],
   "source": [
    "#BComm Course Title Fetching\n",
    "mybrowser$navigate(bcomm_url)\n",
    "\n",
    "for (i in 1:15){\n",
    "    webel <- mybrowser$findElement(\"css selector\", \".pager-next a\")\n",
    "    webel$clickElement()\n",
    "    Sys.sleep(2)\n",
    "}\n",
    "bcomm_page_source <- mybrowser$getPageSource()\n",
    "bcomm_page_data <- read_html(page_source[[1]]) %>%\n",
    "    html_nodes(\"h3 a\") %>%\n",
    "    html_text()\n",
    "\n",
    "# Cleaning data"
   ]
  },
  {
   "cell_type": "code",
   "execution_count": null,
   "metadata": {
    "scrolled": true
   },
   "outputs": [],
   "source": []
  },
  {
   "cell_type": "code",
   "execution_count": null,
   "metadata": {},
   "outputs": [],
   "source": []
  },
  {
   "cell_type": "code",
   "execution_count": null,
   "metadata": {},
   "outputs": [],
   "source": [
    "\n"
   ]
  },
  {
   "cell_type": "code",
   "execution_count": null,
   "metadata": {},
   "outputs": [],
   "source": []
  },
  {
   "cell_type": "code",
   "execution_count": null,
   "metadata": {},
   "outputs": [],
   "source": [
    "mybrowser$close()\n",
    "bcomm_page_data"
   ]
  }
 ],
 "metadata": {
  "kernelspec": {
   "display_name": "R",
   "language": "R",
   "name": "ir"
  },
  "language_info": {
   "codemirror_mode": "r",
   "file_extension": ".r",
   "mimetype": "text/x-r-source",
   "name": "R",
   "pygments_lexer": "r",
   "version": "3.6.1"
  }
 },
 "nbformat": 4,
 "nbformat_minor": 4
}
