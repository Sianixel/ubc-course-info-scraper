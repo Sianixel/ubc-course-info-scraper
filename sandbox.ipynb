{
 "cells": [
  {
   "cell_type": "code",
   "execution_count": 1,
   "metadata": {},
   "outputs": [
    {
     "name": "stderr",
     "output_type": "stream",
     "text": [
      "Warning message:\n",
      "\"package 'tidyverse' was built under R version 3.6.3\"-- Attaching packages --------------------------------------- tidyverse 1.3.0 --\n",
      "v ggplot2 3.3.0     v purrr   0.3.4\n",
      "v tibble  3.0.1     v dplyr   0.8.5\n",
      "v tidyr   1.0.3     v stringr 1.4.0\n",
      "v readr   1.3.1     v forcats 0.5.0\n",
      "Warning message:\n",
      "\"package 'ggplot2' was built under R version 3.6.3\"Warning message:\n",
      "\"package 'tibble' was built under R version 3.6.3\"Warning message:\n",
      "\"package 'tidyr' was built under R version 3.6.3\"Warning message:\n",
      "\"package 'readr' was built under R version 3.6.3\"Warning message:\n",
      "\"package 'purrr' was built under R version 3.6.3\"Warning message:\n",
      "\"package 'dplyr' was built under R version 3.6.3\"Warning message:\n",
      "\"package 'stringr' was built under R version 3.6.3\"Warning message:\n",
      "\"package 'forcats' was built under R version 3.6.3\"-- Conflicts ------------------------------------------ tidyverse_conflicts() --\n",
      "x dplyr::filter() masks stats::filter()\n",
      "x dplyr::lag()    masks stats::lag()\n",
      "Warning message:\n",
      "\"package 'rvest' was built under R version 3.6.3\"Loading required package: xml2\n",
      "Warning message:\n",
      "\"package 'xml2' was built under R version 3.6.3\"\n",
      "Attaching package: 'rvest'\n",
      "\n",
      "The following object is masked from 'package:purrr':\n",
      "\n",
      "    pluck\n",
      "\n",
      "The following object is masked from 'package:readr':\n",
      "\n",
      "    guess_encoding\n",
      "\n",
      "Warning message:\n",
      "\"package 'RSelenium' was built under R version 3.6.3\""
     ]
    }
   ],
   "source": [
    "# Load libraries\n",
    "library(tidyverse)\n",
    "library(rvest)\n",
    "library(RSelenium)\n",
    "library(stringr)"
   ]
  },
  {
   "cell_type": "code",
   "execution_count": 9,
   "metadata": {},
   "outputs": [
    {
     "name": "stdout",
     "output_type": "stream",
     "text": [
      "[1] \"Connecting to remote server\"\n"
     ]
    },
    {
     "ename": "ERROR",
     "evalue": "Error in checkError(res): Undefined error in httr call. httr output: Failed to connect to localhost port 4444: Connection refused\n",
     "output_type": "error",
     "traceback": [
      "Error in checkError(res): Undefined error in httr call. httr output: Failed to connect to localhost port 4444: Connection refused\nTraceback:\n",
      "1. mybrowser$open()",
      "2. queryRD(qpath, \"POST\", qdata = serverOpts)",
      "3. checkError(res)",
      "4. stop(err)"
     ]
    }
   ],
   "source": [
    "# Open browser\n",
    "mybrowser <- remoteDriver(remoteServerAddr = \"localhost\", port = 4444, browserName = \"chrome\")\n",
    "Sys.sleep(2)\n",
    "mybrowser$open()"
   ]
  }
 ],
 "metadata": {
  "kernelspec": {
   "display_name": "R",
   "language": "R",
   "name": "ir"
  },
  "language_info": {
   "codemirror_mode": "r",
   "file_extension": ".r",
   "mimetype": "text/x-r-source",
   "name": "R",
   "pygments_lexer": "r",
   "version": "3.6.1"
  }
 },
 "nbformat": 4,
 "nbformat_minor": 4
}