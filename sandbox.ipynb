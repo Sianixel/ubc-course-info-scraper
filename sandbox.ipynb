{
 "cells": [
  {
   "cell_type": "code",
   "execution_count": 1,
   "metadata": {},
   "outputs": [],
   "source": [
    "#install.packages(\"rvest\")\n",
    "#install.packages(\"tidyverse\")\n",
    "#install.packages(\"RSelenium\")\n",
    "#install.packages(\"stringr\")"
   ]
  },
  {
   "cell_type": "code",
   "execution_count": 2,
   "metadata": {},
   "outputs": [
    {
     "name": "stderr",
     "output_type": "stream",
     "text": [
      "Warning message:\n",
      "\"package 'tidyverse' was built under R version 3.6.3\"-- Attaching packages --------------------------------------- tidyverse 1.3.0 --\n",
      "v ggplot2 3.3.0     v purrr   0.3.4\n",
      "v tibble  3.0.1     v dplyr   0.8.5\n",
      "v tidyr   1.0.3     v stringr 1.4.0\n",
      "v readr   1.3.1     v forcats 0.5.0\n",
      "Warning message:\n",
      "\"package 'ggplot2' was built under R version 3.6.3\"Warning message:\n",
      "\"package 'tibble' was built under R version 3.6.3\"Warning message:\n",
      "\"package 'tidyr' was built under R version 3.6.3\"Warning message:\n",
      "\"package 'readr' was built under R version 3.6.3\"Warning message:\n",
      "\"package 'purrr' was built under R version 3.6.3\"Warning message:\n",
      "\"package 'dplyr' was built under R version 3.6.3\"Warning message:\n",
      "\"package 'stringr' was built under R version 3.6.3\"Warning message:\n",
      "\"package 'forcats' was built under R version 3.6.3\"-- Conflicts ------------------------------------------ tidyverse_conflicts() --\n",
      "x dplyr::filter() masks stats::filter()\n",
      "x dplyr::lag()    masks stats::lag()\n",
      "Warning message:\n",
      "\"package 'rvest' was built under R version 3.6.3\"Loading required package: xml2\n",
      "Warning message:\n",
      "\"package 'xml2' was built under R version 3.6.3\"\n",
      "Attaching package: 'rvest'\n",
      "\n",
      "The following object is masked from 'package:purrr':\n",
      "\n",
      "    pluck\n",
      "\n",
      "The following object is masked from 'package:readr':\n",
      "\n",
      "    guess_encoding\n",
      "\n",
      "Warning message:\n",
      "\"package 'RSelenium' was built under R version 3.6.3\"Warning message:\n",
      "\"package 'htmltab' was built under R version 3.6.3\""
     ]
    }
   ],
   "source": [
    "# Load libraries\n",
    "library(tidyverse)\n",
    "library(rvest)\n",
    "library(RSelenium)\n",
    "library(stringr)\n",
    "library(htmltab)"
   ]
  },
  {
   "cell_type": "code",
   "execution_count": 3,
   "metadata": {},
   "outputs": [],
   "source": [
    "#root_url <- \"https://courses.students.ubc.ca/cs/courseschedule?pname=subjarea&tname=subj-all-departments\"\n",
    "# Open browser\n",
    "#mybrowser <- remoteDriver(remoteServerAddr = \"localhost\", port = 4445L, browserName = \"firefox\")\n",
    "#Sys.sleep(2)\n",
    "#mybrowser$open()\n",
    "#Sauder course code fetching\n",
    "#mybrowser$navigate(root_url)\n"
   ]
  },
  {
   "cell_type": "code",
   "execution_count": 4,
   "metadata": {},
   "outputs": [],
   "source": [
    "#RSelenium::checkForServer()"
   ]
  },
  {
   "cell_type": "code",
   "execution_count": 5,
   "metadata": {},
   "outputs": [],
   "source": [
    "#shell('docker run -d -p 4445:4444 selenium/standalone-firefox')\n",
    "#remDr <- remoteDriver(remoteServerAddr = \"localhost\", port = 4445L, browserName = \"firefox\")\n",
    "#remDr$open()\n",
    "#remDr$navigate(\"http://www.google.com/ncr\")\n",
    "#remDr$getTitle()\n",
    "# [[1]]\n",
    "# [1] \"Google\" "
   ]
  },
  {
   "cell_type": "code",
   "execution_count": 6,
   "metadata": {},
   "outputs": [],
   "source": [
    "#bcomm_url <- \"https://mybcom.sauder.ubc.ca/courses-money-and-enrolment/courses\"\n",
    "\n",
    "# Open browser\n",
    "#mybrowser <- remoteDriver(remoteServerAddr = \"localhost\", port = 4444, browserName = \"firefox\")\n",
    "#Sys.sleep(2)\n",
    "#mybrowser$open()\n",
    "\n",
    "#BComm Course Title Fetching\n",
    "#mybrowser$navigate(bcomm_url)\n",
    "\n",
    "#for (i in 1:15){\n",
    "#    webel <- mybrowser$findElement(\"css selector\", \".pager-next a\")\n",
    "#    webel$clickElement()\n",
    "#    Sys.sleep(2)\n",
    "#}\n",
    "#bcomm_page_source <- mybrowser$getPageSource()\n",
    "#bcomm_page_data <- read_html(bcomm_page_source[[1]]) %>%\n",
    "#    html_nodes(\"h3 a\") %>%\n",
    "#    html_text()"
   ]
  },
  {
   "cell_type": "code",
   "execution_count": 7,
   "metadata": {
    "scrolled": true
   },
   "outputs": [],
   "source": [
    "# Open browser\n",
    "#mybrowser <- remoteDriver(remoteServerAddr = \"localhost\", port = 4445L, browserName = \"firefox\")\n",
    "#Sys.sleep(2)\n",
    "#mybrowser$open()\n",
    "\n",
    "#Sauder course code fetching\n",
    "#mybrowser$navigate(root_url)\n",
    "#mybrowser$getTitle()"
   ]
  },
  {
   "cell_type": "code",
   "execution_count": 8,
   "metadata": {},
   "outputs": [],
   "source": [
    "#driver <- rsDriver(browser=c(\"chrome\"), chromever=\"83.0.4103.14\", extraCapabilities = eCaps)\n",
    "#remDr <- driver[[\"client\"]]"
   ]
  },
  {
   "cell_type": "code",
   "execution_count": 9,
   "metadata": {},
   "outputs": [],
   "source": [
    "#binman::list_versions(\"chromedriver\")"
   ]
  },
  {
   "cell_type": "code",
   "execution_count": 10,
   "metadata": {},
   "outputs": [
    {
     "name": "stdout",
     "output_type": "stream",
     "text": [
      "[1] \"Connecting to remote server\"\n"
     ]
    },
    {
     "ename": "ERROR",
     "evalue": "Error in checkError(res): Undefined error in httr call. httr output: Failed to connect to localhost port 4444: Connection refused\n",
     "output_type": "error",
     "traceback": [
      "Error in checkError(res): Undefined error in httr call. httr output: Failed to connect to localhost port 4444: Connection refused\nTraceback:\n",
      "1. mybrowser$open()",
      "2. queryRD(qpath, \"POST\", qdata = serverOpts)",
      "3. checkError(res)",
      "4. stop(err)"
     ]
    }
   ],
   "source": [
    "root_url = \"https://courses.students.ubc.ca/cs/courseschedule?pname=subjarea&tname=subj-all-departments\"\n",
    "mybrowser <- remoteDriver(port = 4444, browserName = \"firefox\")\n",
    "mybrowser$open()\n",
    "mybrowser$navigate(root_url)\n",
    "root_source <- mybrowser$getPageSource()\n",
    "root_data <- read_html(root_source[[1]])\n",
    "tbls <- html_nodes(root_data, \"[class=sortable table table-striped]\")\n",
    "\n",
    "\n"
   ]
  },
  {
   "cell_type": "code",
   "execution_count": 32,
   "metadata": {},
   "outputs": [
    {
     "name": "stderr",
     "output_type": "stream",
     "text": [
      "Warning message:\n",
      "\"Expected 2 pieces. Missing pieces filled with `NA` in 16 rows [1, 2, 3, 4, 5, 7, 9, 11, 12, 13, 14, 16, 19, 22, 23, 24].\""
     ]
    },
    {
     "data": {
      "text/html": [
       "<ol class=list-inline>\n",
       "\t<li>'BA'</li>\n",
       "\t<li>'BAAC'</li>\n",
       "\t<li>'BABS'</li>\n",
       "\t<li>'BAEN'</li>\n",
       "\t<li>'BAFI'</li>\n",
       "\t<li>'BAHC'</li>\n",
       "\t<li>'BAHR'</li>\n",
       "\t<li>'BAIM'</li>\n",
       "\t<li>'BAIT'</li>\n",
       "\t<li>'BALA'</li>\n",
       "\t<li>'BAMA'</li>\n",
       "\t<li>'BAMS'</li>\n",
       "\t<li>'BAPA'</li>\n",
       "\t<li>'BASC'</li>\n",
       "\t<li>'BASD'</li>\n",
       "\t<li>'BASM'</li>\n",
       "\t<li>'BATL'</li>\n",
       "\t<li>'BAUL'</li>\n",
       "\t<li>'BUSI'</li>\n",
       "\t<li>'COEC'</li>\n",
       "\t<li>'COHR'</li>\n",
       "\t<li>'COMM'</li>\n",
       "\t<li>'COMR'</li>\n",
       "\t<li>'EMBA'</li>\n",
       "</ol>\n"
      ],
      "text/latex": [
       "\\begin{enumerate*}\n",
       "\\item 'BA'\n",
       "\\item 'BAAC'\n",
       "\\item 'BABS'\n",
       "\\item 'BAEN'\n",
       "\\item 'BAFI'\n",
       "\\item 'BAHC'\n",
       "\\item 'BAHR'\n",
       "\\item 'BAIM'\n",
       "\\item 'BAIT'\n",
       "\\item 'BALA'\n",
       "\\item 'BAMA'\n",
       "\\item 'BAMS'\n",
       "\\item 'BAPA'\n",
       "\\item 'BASC'\n",
       "\\item 'BASD'\n",
       "\\item 'BASM'\n",
       "\\item 'BATL'\n",
       "\\item 'BAUL'\n",
       "\\item 'BUSI'\n",
       "\\item 'COEC'\n",
       "\\item 'COHR'\n",
       "\\item 'COMM'\n",
       "\\item 'COMR'\n",
       "\\item 'EMBA'\n",
       "\\end{enumerate*}\n"
      ],
      "text/markdown": [
       "1. 'BA'\n",
       "2. 'BAAC'\n",
       "3. 'BABS'\n",
       "4. 'BAEN'\n",
       "5. 'BAFI'\n",
       "6. 'BAHC'\n",
       "7. 'BAHR'\n",
       "8. 'BAIM'\n",
       "9. 'BAIT'\n",
       "10. 'BALA'\n",
       "11. 'BAMA'\n",
       "12. 'BAMS'\n",
       "13. 'BAPA'\n",
       "14. 'BASC'\n",
       "15. 'BASD'\n",
       "16. 'BASM'\n",
       "17. 'BATL'\n",
       "18. 'BAUL'\n",
       "19. 'BUSI'\n",
       "20. 'COEC'\n",
       "21. 'COHR'\n",
       "22. 'COMM'\n",
       "23. 'COMR'\n",
       "24. 'EMBA'\n",
       "\n",
       "\n"
      ],
      "text/plain": [
       " [1] \"BA\"   \"BAAC\" \"BABS\" \"BAEN\" \"BAFI\" \"BAHC\" \"BAHR\" \"BAIM\" \"BAIT\" \"BALA\"\n",
       "[11] \"BAMA\" \"BAMS\" \"BAPA\" \"BASC\" \"BASD\" \"BASM\" \"BATL\" \"BAUL\" \"BUSI\" \"COEC\"\n",
       "[21] \"COHR\" \"COMM\" \"COMR\" \"EMBA\""
      ]
     },
     "metadata": {},
     "output_type": "display_data"
    }
   ],
   "source": [
    "#Creating Sauder course filter\"\n",
    "root_source = read_html(root_url)\n",
    "#tbls <- html_table(root_source, css = \"[class=sortable table table-striped]\")\n",
    "root_data <- html_table(root_source, header = NA, trim = TRUE, fill = FALSE)\n",
    "root_data <- root_data[[1]]\n",
    "colnames(root_data)=c(\"course_code\", \"department\", \"faculty\")\n",
    "sauder_course_codes_tbl <- filter(root_data, faculty == \"Faculty of Comm and Bus Admin\") %>%\n",
    "                        separate(col = course_code,\n",
    "                                into = c(\"code\", \"char\"),\n",
    "                                sep = \" \")\n",
    "\n",
    "sauder_course_codes <- sauder_course_codes_tbl$code\n",
    "\n",
    "sauder_course_codes\n"
   ]
  },
  {
   "cell_type": "raw",
   "metadata": {},
   "source": []
  }
 ],
 "metadata": {
  "kernelspec": {
   "display_name": "R",
   "language": "R",
   "name": "ir"
  },
  "language_info": {
   "codemirror_mode": "r",
   "file_extension": ".r",
   "mimetype": "text/x-r-source",
   "name": "R",
   "pygments_lexer": "r",
   "version": "3.6.1"
  }
 },
 "nbformat": 4,
 "nbformat_minor": 4
}